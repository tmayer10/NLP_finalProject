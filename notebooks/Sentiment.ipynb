{
 "cells": [
  {
   "cell_type": "markdown",
   "metadata": {},
   "source": [
    "In this notebook, we track excitement with BERT"
   ]
  },
  {
   "cell_type": "code",
   "execution_count": null,
   "metadata": {},
   "outputs": [],
   "source": [
    "from transformers import pipeline, AutoTokenizer, AutoModelForSequenceClassification\n",
    "import torch\n",
    "\n",
    "def analyze_sentiment_bert(transcript):\n",
    "    # Initialize BERT sentiment analyzer\n",
    "    sentiment_analyzer = pipeline(\"sentiment-analysis\", \n",
    "                                model=\"nlptown/bert-base-multilingual-uncased-sentiment\")\n",
    "    \n",
    "    # Break transcript into chunks (BERT has token limits)\n",
    "    chunk_size = 512\n",
    "    chunks = [transcript[i:i+chunk_size] for i in range(0, len(transcript), chunk_size)]\n",
    "    \n",
    "    # Get sentiment scores for each chunk\n",
    "    sentiments = [sentiment_analyzer(chunk)[0] for chunk in chunks]\n",
    "    \n",
    "    # Average the scores\n",
    "    avg_sentiment = np.mean([float(s['score']) for s in sentiments])\n",
    "    \n",
    "    return {\n",
    "        'sentiment_score': avg_sentiment,\n",
    "        'sentiment_label': 'Positive' if avg_sentiment > 0.5 else 'Negative'\n",
    "    }"
   ]
  },
  {
   "cell_type": "code",
   "execution_count": null,
   "metadata": {},
   "outputs": [],
   "source": []
  }
 ],
 "metadata": {
  "kernelspec": {
   "display_name": "Python 3",
   "language": "python",
   "name": "python3"
  },
  "language_info": {
   "name": "python",
   "version": "3.12.6"
  }
 },
 "nbformat": 4,
 "nbformat_minor": 2
}
